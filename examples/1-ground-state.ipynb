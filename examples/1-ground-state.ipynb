{
 "cells": [
  {
   "cell_type": "code",
   "execution_count": 1,
   "metadata": {},
   "outputs": [],
   "source": [
    "from time import perf_counter\n",
    "\n",
    "import numpy as np\n",
    "\n",
    "import jax\n",
    "from jax import numpy as jnp\n",
    "import optax\n",
    "\n",
    "import matplotlib.pyplot as plt"
   ]
  },
  {
   "cell_type": "code",
   "execution_count": 2,
   "metadata": {},
   "outputs": [],
   "source": [
    "import continuousvmc as vmc\n",
    "from continuousvmc import RotorCNN, VariationalHMC, StochasticReconfiguration, QuantumRotors\n",
    "from continuousvmc.utils import tree_shape, tree_size"
   ]
  },
  {
   "cell_type": "code",
   "execution_count": 3,
   "metadata": {},
   "outputs": [
    {
     "data": {
      "text/plain": [
       "'gpu'"
      ]
     },
     "execution_count": 3,
     "metadata": {},
     "output_type": "execute_result"
    }
   ],
   "source": [
    "jax.default_backend()"
   ]
  },
  {
   "attachments": {},
   "cell_type": "markdown",
   "metadata": {},
   "source": [
    "## Wavefunction ansatz definition"
   ]
  },
  {
   "cell_type": "code",
   "execution_count": 4,
   "metadata": {},
   "outputs": [],
   "source": [
    "logpsi = RotorCNN(dims=(4,4), kernels=[3,3], K=4, param_dtype=jnp.complex64)"
   ]
  },
  {
   "cell_type": "code",
   "execution_count": 5,
   "metadata": {},
   "outputs": [],
   "source": [
    "key = jax.random.PRNGKey(42)\n",
    "params = logpsi.initialize(key)"
   ]
  },
  {
   "cell_type": "code",
   "execution_count": 6,
   "metadata": {},
   "outputs": [
    {
     "data": {
      "text/plain": [
       "656"
      ]
     },
     "execution_count": 6,
     "metadata": {},
     "output_type": "execute_result"
    }
   ],
   "source": [
    "tree_size(params)"
   ]
  },
  {
   "cell_type": "code",
   "execution_count": 7,
   "metadata": {},
   "outputs": [
    {
     "data": {
      "text/plain": [
       "FrozenDict({\n",
       "    params: {\n",
       "        Conv_0: {\n",
       "            bias: (8,),\n",
       "            kernel: (3, 3, 8, 8),\n",
       "        },\n",
       "        Conv_1: {\n",
       "            kernel: (3, 3, 8, 1),\n",
       "        },\n",
       "    },\n",
       "})"
      ]
     },
     "execution_count": 7,
     "metadata": {},
     "output_type": "execute_result"
    }
   ],
   "source": [
    "tree_shape(params)"
   ]
  },
  {
   "attachments": {},
   "cell_type": "markdown",
   "metadata": {},
   "source": [
    "## The hamiltonian\n",
    "\n",
    "We look at the Quantum Rotor Model in the continuous basis of rotor angles $\\theta$\n",
    "\n",
    "$$\n",
    "H \\; \\mapsto \\; -\\frac{g J}{2} \\sum _k \\frac{\\partial ^2}{\\partial \\theta _k ^2} - J \\sum _{\\langle k, l \\rangle} \\cos(\\theta _k - \\theta _l)\n",
    "$$\n",
    "\n",
    "on the rectangular 4x4 lattice our ansatz `logpsi` is defined on. The associated local energy function is:\n",
    "\n",
    "$$\n",
    "E_L [\\psi _\\alpha] (\\theta) \\equiv \\frac{H \\psi _\\alpha}{\\psi _\\alpha} = \\frac{g J}{2} \\sum _k \\frac{1}{\\psi _\\alpha} \\frac{\\partial ^2 \\psi _\\alpha }{\\partial \\theta _k ^2} - J \\sum _{\\langle k, l \\rangle} \\cos(\\theta _k - \\theta _l)\n",
    "$$\n",
    "\n",
    "We can evaluate the local energy in a numerically stable way directly from $\\ln \\psi _\\alpha$ by employing:\n",
    "\n",
    "$$\n",
    "\\frac{1}{\\psi _\\alpha} \\frac{\\partial ^2 \\psi _\\alpha }{\\partial \\theta _k ^2} = \\frac{\\partial ^2 \\ln \\psi _\\alpha }{\\partial \\theta _k ^2} + \\left( \\frac{\\partial \\ln \\psi _\\alpha }{\\partial \\theta _k} \\right) ^2\n",
    "$$\n",
    "\n",
    "and automatic differentiation (AD) from JAX. This is implemented in `QuantumRotors` class, or any local energy class inheriting from `vmc.hamiltonian.LocalEnergy`."
   ]
  },
  {
   "cell_type": "code",
   "execution_count": 8,
   "metadata": {},
   "outputs": [],
   "source": [
    "eloc = QuantumRotors(logpsi, g=6.0, pbc=False, chunk_size=4000)"
   ]
  },
  {
   "attachments": {},
   "cell_type": "markdown",
   "metadata": {},
   "source": [
    "We can evaluate $E_L [\\psi _\\alpha] (\\theta) $ the way you would probably expect:"
   ]
  },
  {
   "cell_type": "code",
   "execution_count": 9,
   "metadata": {},
   "outputs": [],
   "source": [
    "thetas = np.random.randn(*logpsi.dims)"
   ]
  },
  {
   "cell_type": "code",
   "execution_count": 10,
   "metadata": {},
   "outputs": [
    {
     "data": {
      "text/plain": [
       "DeviceArray(4.25146+11.244156j, dtype=complex64)"
      ]
     },
     "execution_count": 10,
     "metadata": {},
     "output_type": "execute_result"
    }
   ],
   "source": [
    "eloc(params, thetas)"
   ]
  },
  {
   "attachments": {},
   "cell_type": "markdown",
   "metadata": {},
   "source": [
    "as well as local energy gradients with respect to ansatz parameters $\\alpha$, given samples from $| \\psi _\\alpha | ^2$ :"
   ]
  },
  {
   "cell_type": "code",
   "execution_count": 11,
   "metadata": {},
   "outputs": [],
   "source": [
    "dummy_samples = np.random.randn(100, *logpsi.dims)"
   ]
  },
  {
   "cell_type": "code",
   "execution_count": 12,
   "metadata": {},
   "outputs": [],
   "source": [
    "value, grad = eloc.value_and_grad(params, dummy_samples)"
   ]
  },
  {
   "cell_type": "code",
   "execution_count": 13,
   "metadata": {},
   "outputs": [
    {
     "data": {
      "text/plain": [
       "DeviceArray(-9.0529995, dtype=float32)"
      ]
     },
     "execution_count": 13,
     "metadata": {},
     "output_type": "execute_result"
    }
   ],
   "source": [
    "value # The real part"
   ]
  },
  {
   "cell_type": "code",
   "execution_count": 14,
   "metadata": {},
   "outputs": [
    {
     "data": {
      "text/plain": [
       "FrozenDict({\n",
       "    params: {\n",
       "        Conv_0: {\n",
       "            bias: (8,),\n",
       "            kernel: (3, 3, 8, 8),\n",
       "        },\n",
       "        Conv_1: {\n",
       "            kernel: (3, 3, 8, 1),\n",
       "        },\n",
       "    },\n",
       "})"
      ]
     },
     "execution_count": 14,
     "metadata": {},
     "output_type": "execute_result"
    }
   ],
   "source": [
    "tree_shape(grad)"
   ]
  },
  {
   "attachments": {},
   "cell_type": "markdown",
   "metadata": {},
   "source": [
    "## Sampling the wavefunction\n",
    "\n",
    "We use the Hamiltonian Monte Carlo (HMC) algorithm for generating samples from $|\\psi _\\alpha | ^2$. As a quick aside: for a given generic probability distribution $P(x)$, HMC solves sthe sampling problem in a space augmented with a momentum variable $p$:\n",
    "\n",
    "$$\n",
    "P(x) \\propto \\int d ^N p \\, \\exp \\left\\lbrace -\\frac{1}{2} p^\\top M^{-1} p + \\ln p(x) \\right\\rbrace \\; .\n",
    "$$\n",
    "\n",
    "Proposals are generated by moving on surfaces of constant energy/probability through numeriacl integration of Hamilton's equations of motion. A symplectic integrator with a fixed step-size $\\epsilon$ is run for $L$ steps to generate the final proposal. \n",
    "\n",
    "This entire setup introduces the following \"hyperpameters\":\n",
    "\n",
    "* $M$ : the \"momentum metric tensor\" or the \"mass matrix\"\n",
    "* $ \\epsilon $ : the \"step size\" or \"leapfrog step size\"\n",
    "* $ L $ : the number of proposal integrator steps\n",
    "\n",
    "These values have to be carefully adjusted to see good chain convergence and low autocorrelation times beyond what a simple Random-Walk Metropolis (RWM) algorithm is capable of. In this code, we fix $L$ and automatically adapt $M$ and $\\epsilon$ values during an extended warmup phase for each HMC chain individually.\n",
    "\n",
    "We simply instantiate:"
   ]
  },
  {
   "cell_type": "code",
   "execution_count": 15,
   "metadata": {},
   "outputs": [],
   "source": [
    "sampler = VariationalHMC(logpsi, n_samples=200, n_chains=50, warmup=600, n_leaps=40, target_acc_rate=0.8)"
   ]
  },
  {
   "cell_type": "markdown",
   "metadata": {},
   "source": [
    "and sample using:"
   ]
  },
  {
   "cell_type": "code",
   "execution_count": 16,
   "metadata": {},
   "outputs": [],
   "source": [
    "key, = jax.random.split(key, 1)\n",
    "samples, observables, info = sampler(params, key)"
   ]
  },
  {
   "cell_type": "code",
   "execution_count": 17,
   "metadata": {},
   "outputs": [
    {
     "data": {
      "text/plain": [
       "(10000, 4, 4)"
      ]
     },
     "execution_count": 17,
     "metadata": {},
     "output_type": "execute_result"
    }
   ],
   "source": [
    "samples.shape"
   ]
  },
  {
   "attachments": {},
   "cell_type": "markdown",
   "metadata": {},
   "source": [
    "The resulting samples are returned as an array of shape `(n_chains * n_samples, *dims)`, collecting all samples from all independent chains along the leading axis. Furthermore, the sampler itself is highly customizable to adapt to difficult probability landscapes. Options include:\n",
    "\n",
    "* `n_samples` : The number of samples to generate per chain.\n",
    "* `n_chains` : The number of independent chains to run.\n",
    "* `warmup` : The number of warmup steps to run, optionally adapting the momentum metric tensor and the leapfrog step size.\n",
    "* `n_leaps` : The number of leapfrog steps to take per sample proposal.\n",
    "* `adapt_step_size` : Adapt the step size during warmup/adaptation, by default True.\n",
    "* `adapt_metric` : Adapt the momentum metric tensor during warmup/adaptation, by default True.\n",
    "* `diagonal_metric` : Use a diagonal momentum metric tensor (as opposed to a full dense covariance matrix), by default True.\n",
    "* `jitter` : Jitter to add the leapfrog trajectory length, by default 0.2. Each time a leapfrog-based proposal is generated, its trajectory length is sampled as: length ~ Uniform([(1 - `jitter`) * `n_leaps`, (1 + `jitter`) * `n_leaps`])\n",
    "* `target_acc_rate` : The target acceptance rate, by default 0.65. Leapfrog step size is adjusted during warmup/adaptation to try to match this rate.\n",
    "* `init_step_size_search` : Whether to perform a fast-and-cheap step size search to find the right order of magnitude before the adaptation itself, by default True."
   ]
  },
  {
   "cell_type": "markdown",
   "metadata": {},
   "source": [
    "## Optimizing the wavefunction\n",
    "\n",
    "We use the Quantum Natural Gradient (Stochastic Reconfiguration) optimizer to find the ground state parameters. The \"learning rate\" can either be set to a fixed value or scheduled using schedulers from `optax`."
   ]
  },
  {
   "cell_type": "code",
   "execution_count": 18,
   "metadata": {},
   "outputs": [],
   "source": [
    "schedule = optax.polynomial_schedule(\n",
    "    init_value=0.01, end_value=0.001, power=2, transition_steps=30, transition_begin=50\n",
    ")"
   ]
  },
  {
   "cell_type": "code",
   "execution_count": 19,
   "metadata": {},
   "outputs": [],
   "source": [
    "init, kernel = StochasticReconfiguration(\n",
    "    logpsi, eloc, sampler, lr=schedule, solver='shift', eps=1e-3\n",
    ")"
   ]
  },
  {
   "cell_type": "markdown",
   "metadata": {},
   "source": [
    "The `kernel` represents a single optimization state and can be `jax.jit`-ed for performance. The optimizer `state` is generated by the `init` function:"
   ]
  },
  {
   "cell_type": "code",
   "execution_count": 20,
   "metadata": {},
   "outputs": [],
   "source": [
    "kernel = jax.jit(kernel)\n",
    "state = init(params)"
   ]
  },
  {
   "cell_type": "markdown",
   "metadata": {},
   "source": [
    "Finally, we write out the optimization loop:"
   ]
  },
  {
   "cell_type": "code",
   "execution_count": 21,
   "metadata": {},
   "outputs": [],
   "source": [
    "best_params = params\n",
    "best_E = jnp.array(10000.0)\n",
    "energies = []"
   ]
  },
  {
   "cell_type": "code",
   "execution_count": 22,
   "metadata": {},
   "outputs": [
    {
     "name": "stdout",
     "output_type": "stream",
     "text": [
      "Iteration    1 | Energy  7.8222 | lr 1.0e-02 | Acc. r. 0.74 | Avg. dt 7.5e-03 | Time per iter. 27.47 s\n",
      "Iteration    2 | Energy  2.2091 | lr 1.0e-02 | Acc. r. 0.75 | Avg. dt 6.0e-03 | Time per iter. 26.73 s\n",
      "Iteration    4 | Energy  0.2988 | lr 1.0e-02 | Acc. r. 0.76 | Avg. dt 5.5e-03 | Time per iter. 5.01 s\n",
      "Iteration    6 | Energy -0.1387 | lr 1.0e-02 | Acc. r. 0.76 | Avg. dt 4.9e-03 | Time per iter. 5.01 s\n",
      "Iteration    8 | Energy -0.6113 | lr 1.0e-02 | Acc. r. 0.70 | Avg. dt 6.6e-03 | Time per iter. 5.01 s\n",
      "Iteration   10 | Energy -0.9201 | lr 1.0e-02 | Acc. r. 0.71 | Avg. dt 6.9e-03 | Time per iter. 5.02 s\n",
      "Iteration   12 | Energy -1.1961 | lr 1.0e-02 | Acc. r. 0.70 | Avg. dt 7.5e-03 | Time per iter. 5.04 s\n",
      "Iteration   14 | Energy -1.3563 | lr 1.0e-02 | Acc. r. 0.74 | Avg. dt 6.0e-03 | Time per iter. 5.06 s\n",
      "Iteration   16 | Energy -1.4823 | lr 1.0e-02 | Acc. r. 0.70 | Avg. dt 7.3e-03 | Time per iter. 5.06 s\n",
      "Iteration   18 | Energy -1.6041 | lr 1.0e-02 | Acc. r. 0.67 | Avg. dt 7.8e-03 | Time per iter. 5.05 s\n",
      "Iteration   20 | Energy -1.6494 | lr 1.0e-02 | Acc. r. 0.74 | Avg. dt 6.6e-03 | Time per iter. 5.05 s\n",
      "Iteration   22 | Energy -1.7545 | lr 1.0e-02 | Acc. r. 0.66 | Avg. dt 8.4e-03 | Time per iter. 5.07 s\n",
      "Iteration   24 | Energy -1.8073 | lr 1.0e-02 | Acc. r. 0.59 | Avg. dt 7.2e-03 | Time per iter. 5.07 s\n",
      "Iteration   26 | Energy -1.8827 | lr 1.0e-02 | Acc. r. 0.60 | Avg. dt 8.9e-03 | Time per iter. 5.07 s\n",
      "Iteration   28 | Energy -1.9331 | lr 1.0e-02 | Acc. r. 0.67 | Avg. dt 7.7e-03 | Time per iter. 5.06 s\n",
      "Iteration   30 | Energy -1.9832 | lr 1.0e-02 | Acc. r. 0.67 | Avg. dt 8.3e-03 | Time per iter. 5.06 s\n",
      "Iteration   32 | Energy -1.9758 | lr 1.0e-02 | Acc. r. 0.68 | Avg. dt 7.9e-03 | Time per iter. 5.06 s\n",
      "Iteration   34 | Energy -1.9834 | lr 1.0e-02 | Acc. r. 0.72 | Avg. dt 7.2e-03 | Time per iter. 5.06 s\n",
      "Iteration   36 | Energy -1.9534 | lr 1.0e-02 | Acc. r. 0.57 | Avg. dt 8.9e-03 | Time per iter. 5.06 s\n",
      "Iteration   38 | Energy -2.0551 | lr 1.0e-02 | Acc. r. 0.59 | Avg. dt 1.0e-02 | Time per iter. 5.06 s\n",
      "Iteration   40 | Energy -2.0568 | lr 1.0e-02 | Acc. r. 0.57 | Avg. dt 9.0e-03 | Time per iter. 5.05 s\n",
      "Iteration   42 | Energy -2.0336 | lr 1.0e-02 | Acc. r. 0.55 | Avg. dt 9.6e-03 | Time per iter. 5.05 s\n",
      "Iteration   44 | Energy -2.1030 | lr 1.0e-02 | Acc. r. 0.63 | Avg. dt 7.9e-03 | Time per iter. 5.05 s\n",
      "Iteration   46 | Energy -2.0783 | lr 1.0e-02 | Acc. r. 0.70 | Avg. dt 7.8e-03 | Time per iter. 5.06 s\n",
      "Iteration   49 | Energy -2.0667 | lr 1.0e-02 | Acc. r. 0.70 | Avg. dt 7.6e-03 | Time per iter. 4.67 s\n",
      "Iteration   52 | Energy -2.0710 | lr 9.4e-03 | Acc. r. 0.76 | Avg. dt 7.1e-03 | Time per iter. 4.52 s\n",
      "Iteration   55 | Energy -2.0930 | lr 7.8e-03 | Acc. r. 0.72 | Avg. dt 8.2e-03 | Time per iter. 4.53 s\n",
      "Iteration   58 | Energy -2.1097 | lr 6.3e-03 | Acc. r. 0.69 | Avg. dt 9.3e-03 | Time per iter. 4.53 s\n",
      "Iteration   61 | Energy -2.1286 | lr 5.0e-03 | Acc. r. 0.61 | Avg. dt 9.6e-03 | Time per iter. 4.54 s\n",
      "Iteration   64 | Energy -2.0835 | lr 3.9e-03 | Acc. r. 0.68 | Avg. dt 7.8e-03 | Time per iter. 4.54 s\n",
      "Iteration   67 | Energy -2.0895 | lr 3.0e-03 | Acc. r. 0.61 | Avg. dt 1.1e-02 | Time per iter. 4.54 s\n",
      "Iteration   70 | Energy -2.1053 | lr 2.2e-03 | Acc. r. 0.66 | Avg. dt 8.4e-03 | Time per iter. 4.54 s\n",
      "Iteration   73 | Energy -2.1066 | lr 1.6e-03 | Acc. r. 0.67 | Avg. dt 8.3e-03 | Time per iter. 4.55 s\n",
      "Iteration   76 | Energy -2.1125 | lr 1.2e-03 | Acc. r. 0.70 | Avg. dt 8.9e-03 | Time per iter. 4.57 s\n",
      "Iteration   79 | Energy -2.0914 | lr 1.0e-03 | Acc. r. 0.62 | Avg. dt 8.2e-03 | Time per iter. 4.57 s\n",
      "Iteration   82 | Energy -2.1113 | lr 1.0e-03 | Acc. r. 0.69 | Avg. dt 7.9e-03 | Time per iter. 4.57 s\n",
      "Iteration   85 | Energy -2.1659 | lr 1.0e-03 | Acc. r. 0.65 | Avg. dt 8.5e-03 | Time per iter. 4.57 s\n",
      "Iteration   88 | Energy -2.0967 | lr 1.0e-03 | Acc. r. 0.58 | Avg. dt 8.9e-03 | Time per iter. 4.57 s\n",
      "Iteration   91 | Energy -2.0947 | lr 1.0e-03 | Acc. r. 0.61 | Avg. dt 8.1e-03 | Time per iter. 4.57 s\n",
      "Iteration   94 | Energy -2.1058 | lr 1.0e-03 | Acc. r. 0.78 | Avg. dt 5.9e-03 | Time per iter. 4.57 s\n",
      "Iteration   97 | Energy -2.1198 | lr 1.0e-03 | Acc. r. 0.53 | Avg. dt 1.1e-02 | Time per iter. 4.57 s\n",
      "Iteration  100 | Energy -2.1154 | lr 1.0e-03 | Acc. r. 0.71 | Avg. dt 7.6e-03 | Time per iter. 4.57 s\n",
      "CPU times: user 9min, sys: 1.39 s, total: 9min 2s\n",
      "Wall time: 8min 42s\n"
     ]
    }
   ],
   "source": [
    "%%time\n",
    "\n",
    "counter = 0\n",
    "clock = perf_counter()\n",
    "\n",
    "for i in range(100):\n",
    "    \n",
    "    key, = jax.random.split(key, 1)\n",
    "    state = kernel(state, key)\n",
    "    \n",
    "    energies.append(state.energy)\n",
    "    counter += 1\n",
    "    \n",
    "    if state.energy < best_E:\n",
    "        best_params = state.params\n",
    "        best_E = state.energy\n",
    "    \n",
    "    if perf_counter() - clock > 10:\n",
    "        \n",
    "        acc = state.sampler_info.mean_acceptance\n",
    "        dt = state.sampler_info.mean_step_size\n",
    "        lr = state.learning_rate\n",
    "        \n",
    "        time_per_iter = (perf_counter() - clock)/counter\n",
    "        \n",
    "        printout = ' | '.join([\n",
    "            f'Iteration {i+1:4}',\n",
    "            f'Energy {state.energy: .4f}',\n",
    "            f'lr {lr:.1e}',\n",
    "            f'Acc. r. {acc:.2f}',\n",
    "            f'Avg. dt {dt:.1e}',\n",
    "            f'Time per iter. {time_per_iter:.2f} s']\n",
    "        )\n",
    "            \n",
    "        print(printout)\n",
    "        \n",
    "        counter = 0\n",
    "        clock = perf_counter()"
   ]
  },
  {
   "cell_type": "markdown",
   "metadata": {},
   "source": [
    "Plot the results:"
   ]
  },
  {
   "cell_type": "code",
   "execution_count": 23,
   "metadata": {},
   "outputs": [
    {
     "data": {
      "text/plain": [
       "Text(0, 0.5, 'Energy')"
      ]
     },
     "execution_count": 23,
     "metadata": {},
     "output_type": "execute_result"
    },
    {
     "data": {
      "image/png": "[encoded data removed]",
      "text/plain": [
       "<Figure size 864x432 with 1 Axes>"
      ]
     },
     "metadata": {
      "needs_background": "light"
     },
     "output_type": "display_data"
    }
   ],
   "source": [
    "fig, ax = plt.subplots(figsize=(12,6))\n",
    "\n",
    "ax.plot(energies, c='forestgreen', lw=2)\n",
    "ax.set_title('VMC optimization', fontsize=16)\n",
    "ax.set_xlabel('Iteration', fontsize=14)\n",
    "ax.set_ylabel('Energy', fontsize=14)"
   ]
  },
  {
   "cell_type": "code",
   "execution_count": null,
   "metadata": {},
   "outputs": [],
   "source": []
  }
 ],
 "metadata": {
  "kernelspec": {
   "display_name": "Python 3.8.12 ('venv': virtualenv)",
   "language": "python",
   "name": "python3"
  },
  "language_info": {
   "codemirror_mode": {
    "name": "ipython",
    "version": 3
   },
   "file_extension": ".py",
   "mimetype": "text/x-python",
   "name": "python",
   "nbconvert_exporter": "python",
   "pygments_lexer": "ipython3",
   "version": "3.8.12"
  },
  "orig_nbformat": 4,
  "vscode": {
   "interpreter": {
    "hash": "a399b3252daa552018818122787f82c6df78691d41d33e65a2bc4fd9be9dd14e"
   }
  }
 },
 "nbformat": 4,
 "nbformat_minor": 2
}
