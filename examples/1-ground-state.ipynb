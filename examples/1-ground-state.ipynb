{
 "cells": [
  {
   "cell_type": "code",
   "execution_count": 16,
   "metadata": {},
   "outputs": [],
   "source": [
    "import numpy as np\n",
    "\n",
    "import jax\n",
    "from jax import numpy as jnp\n",
    "\n",
    "import continuousvmc as vmc\n",
    "from continuousvmc import RotorCNN, VariationalHMC, StochasticReconfiguration, QuantumRotors\n",
    "from continuousvmc.utils import tree_shape, tree_size"
   ]
  },
  {
   "cell_type": "code",
   "execution_count": 2,
   "metadata": {},
   "outputs": [
    {
     "data": {
      "text/plain": [
       "'gpu'"
      ]
     },
     "execution_count": 2,
     "metadata": {},
     "output_type": "execute_result"
    }
   ],
   "source": [
    "jax.default_backend()"
   ]
  },
  {
   "attachments": {},
   "cell_type": "markdown",
   "metadata": {},
   "source": [
    "## Wavefunction ansatz definition"
   ]
  },
  {
   "cell_type": "code",
   "execution_count": 4,
   "metadata": {},
   "outputs": [],
   "source": [
    "logpsi = RotorCNN(dims=(4,4), kernels=[3,3], K=4, param_dtype=jnp.complex64)"
   ]
  },
  {
   "cell_type": "code",
   "execution_count": 9,
   "metadata": {},
   "outputs": [],
   "source": [
    "key = jax.random.PRNGKey(42)\n",
    "params = logpsi.initialize(key)"
   ]
  },
  {
   "cell_type": "code",
   "execution_count": 14,
   "metadata": {},
   "outputs": [
    {
     "data": {
      "text/plain": [
       "656"
      ]
     },
     "execution_count": 14,
     "metadata": {},
     "output_type": "execute_result"
    }
   ],
   "source": [
    "tree_size(params)"
   ]
  },
  {
   "cell_type": "code",
   "execution_count": 11,
   "metadata": {},
   "outputs": [
    {
     "data": {
      "text/plain": [
       "FrozenDict({\n",
       "    params: {\n",
       "        Conv_0: {\n",
       "            bias: (8,),\n",
       "            kernel: (3, 3, 8, 8),\n",
       "        },\n",
       "        Conv_1: {\n",
       "            kernel: (3, 3, 8, 1),\n",
       "        },\n",
       "    },\n",
       "})"
      ]
     },
     "execution_count": 11,
     "metadata": {},
     "output_type": "execute_result"
    }
   ],
   "source": [
    "tree_shape(params)"
   ]
  },
  {
   "attachments": {},
   "cell_type": "markdown",
   "metadata": {},
   "source": [
    "## The hamiltonian\n",
    "\n",
    "We look at the Quantum Rotor Model in the continuous basis of rotor angles $\\theta$\n",
    "\n",
    "$$\n",
    "H \\; \\mapsto \\; \\frac{g J}{2} \\sum _k \\frac{\\partial ^2}{\\partial \\theta _k ^2} - J \\sum _{\\langle k, l \\rangle} \\cos(\\theta _k - \\theta _l)\n",
    "$$\n",
    "\n",
    "on the rectangular 4x4 lattice our ansatz `logpsi` is defined on. The associated local energy function is:\n",
    "\n",
    "$$\n",
    "E_L [\\psi _\\alpha] (\\theta) \\equiv \\frac{H \\psi _\\alpha}{\\psi _\\alpha} = \\frac{g J}{2} \\sum _k \\frac{1}{\\psi _\\alpha} \\frac{\\partial ^2 \\psi _\\alpha }{\\partial \\theta _k ^2} - J \\sum _{\\langle k, l \\rangle} \\cos(\\theta _k - \\theta _l)\n",
    "$$\n",
    "\n",
    "We can evaluate the local energy in a numerically stable way directly from $\\ln \\psi _\\alpha$ by employing:\n",
    "\n",
    "$$\n",
    "\\frac{1}{\\psi _\\alpha} \\frac{\\partial ^2 \\psi _\\alpha }{\\partial \\theta _k ^2} = \\frac{\\partial ^2 \\ln \\psi _\\alpha }{\\partial \\theta _k ^2} + \\left( \\frac{\\partial \\ln \\psi _\\alpha }{\\partial \\theta _k} \\right) ^2\n",
    "$$\n",
    "\n",
    "and automatic differentiation (AD) from JAX. This is implemented in `QuantumRotors` class, or any local energy class inheriting from `vmc.hamiltonian.LocalEnergy`."
   ]
  },
  {
   "cell_type": "code",
   "execution_count": 6,
   "metadata": {},
   "outputs": [],
   "source": [
    "eloc = QuantumRotors(logpsi, g=6.0, pbc=False, chunk_size=4000)"
   ]
  },
  {
   "attachments": {},
   "cell_type": "markdown",
   "metadata": {},
   "source": [
    "We can evaluate $E_L [\\psi _\\alpha] (\\theta) $ the way you would probably expect:"
   ]
  },
  {
   "cell_type": "code",
   "execution_count": 17,
   "metadata": {},
   "outputs": [],
   "source": [
    "thetas = np.random.randn(*logpsi.dims)"
   ]
  },
  {
   "cell_type": "code",
   "execution_count": 18,
   "metadata": {},
   "outputs": [
    {
     "data": {
      "text/plain": [
       "DeviceArray(-4.663691+9.582911j, dtype=complex64)"
      ]
     },
     "execution_count": 18,
     "metadata": {},
     "output_type": "execute_result"
    }
   ],
   "source": [
    "eloc(params, thetas)"
   ]
  },
  {
   "attachments": {},
   "cell_type": "markdown",
   "metadata": {},
   "source": [
    "as well as local energy gradients with respect to ansatz parameters $\\alpha$, given samples from $| \\psi _\\alpha | ^2$ :"
   ]
  },
  {
   "cell_type": "code",
   "execution_count": 22,
   "metadata": {},
   "outputs": [],
   "source": [
    "dummy_samples = np.random.randn(100, *logpsi.dims)"
   ]
  },
  {
   "cell_type": "code",
   "execution_count": 24,
   "metadata": {},
   "outputs": [],
   "source": [
    "value, grad = eloc.value_and_grad(params, dummy_samples)"
   ]
  },
  {
   "cell_type": "code",
   "execution_count": 25,
   "metadata": {},
   "outputs": [
    {
     "data": {
      "text/plain": [
       "DeviceArray(-8.64675, dtype=float32)"
      ]
     },
     "execution_count": 25,
     "metadata": {},
     "output_type": "execute_result"
    }
   ],
   "source": [
    "value # The real part"
   ]
  },
  {
   "cell_type": "code",
   "execution_count": 26,
   "metadata": {},
   "outputs": [
    {
     "data": {
      "text/plain": [
       "FrozenDict({\n",
       "    params: {\n",
       "        Conv_0: {\n",
       "            bias: (8,),\n",
       "            kernel: (3, 3, 8, 8),\n",
       "        },\n",
       "        Conv_1: {\n",
       "            kernel: (3, 3, 8, 1),\n",
       "        },\n",
       "    },\n",
       "})"
      ]
     },
     "execution_count": 26,
     "metadata": {},
     "output_type": "execute_result"
    }
   ],
   "source": [
    "tree_shape(grad)"
   ]
  },
  {
   "attachments": {},
   "cell_type": "markdown",
   "metadata": {},
   "source": [
    "## Sampling the wavefunction\n",
    "\n",
    "We use the Hamiltonian Monte Carlo (HMC) algorithm for generating samples from $|\\psi _\\alpha | ^2$. We simply instantiate:"
   ]
  },
  {
   "cell_type": "code",
   "execution_count": 31,
   "metadata": {},
   "outputs": [],
   "source": [
    "sampler = VariationalHMC(logpsi, n_samples=100, n_chains=100, warmup=600, n_leaps=50, target_acc_rate=0.8)"
   ]
  },
  {
   "cell_type": "markdown",
   "metadata": {},
   "source": [
    "and sample using:"
   ]
  },
  {
   "cell_type": "code",
   "execution_count": 32,
   "metadata": {},
   "outputs": [],
   "source": [
    "key, = jax.random.split(key, 1)\n",
    "samples, observables, info = sampler(params, key)"
   ]
  },
  {
   "cell_type": "code",
   "execution_count": 33,
   "metadata": {},
   "outputs": [
    {
     "data": {
      "text/plain": [
       "(10000, 4, 4)"
      ]
     },
     "execution_count": 33,
     "metadata": {},
     "output_type": "execute_result"
    }
   ],
   "source": [
    "samples.shape"
   ]
  },
  {
   "attachments": {},
   "cell_type": "markdown",
   "metadata": {},
   "source": [
    "The resulting samples are returned as an array of shape `(n_chains * n_samples, *dims)`, collecting all samples from all independent chains along the leading axis. Furthermore, the sampler itself is highly customizable to adapt to difficult probability landscapes. Options include:"
   ]
  },
  {
   "cell_type": "markdown",
   "metadata": {},
   "source": []
  }
 ],
 "metadata": {
  "kernelspec": {
   "display_name": "venv",
   "language": "python",
   "name": "python3"
  },
  "language_info": {
   "codemirror_mode": {
    "name": "ipython",
    "version": 3
   },
   "file_extension": ".py",
   "mimetype": "text/x-python",
   "name": "python",
   "nbconvert_exporter": "python",
   "pygments_lexer": "ipython3",
   "version": "3.10.6"
  },
  "orig_nbformat": 4,
  "vscode": {
   "interpreter": {
    "hash": "67ce1dda3dbcaf0975420785f49ebe02ba1880cd4b4cddc03875d629d620920f"
   }
  }
 },
 "nbformat": 4,
 "nbformat_minor": 2
}
